{
  "nbformat": 4,
  "nbformat_minor": 0,
  "metadata": {
    "colab": {
      "provenance": [],
      "gpuType": "T4"
    },
    "kernelspec": {
      "name": "python3",
      "display_name": "Python 3"
    },
    "language_info": {
      "name": "python"
    },
    "accelerator": "GPU"
  },
  "cells": [
    {
      "cell_type": "code",
      "execution_count": null,
      "metadata": {
        "id": "Rym7Z6KW-xUD"
      },
      "outputs": [],
      "source": [
        "from diffusers import StableDiffusionPipeline\n",
        "import torch\n",
        "\n",
        "pipe = StableDiffusionPipeline.from_pretrained(\n",
        "    \"runwayml/stable-diffusion-v1-5\",\n",
        "    torch_dtype=torch.float16\n",
        ")\n",
        "pipe = pipe.to(\"cuda\")\n",
        "\n",
        "# pipe.load_lora_weights(\"latent-consistency/lcm-lora-sdv1-5\")"
      ]
    },
    {
      "cell_type": "code",
      "source": [
        "import torch\n",
        "from diffusers import LCMScheduler, AutoPipelineForText2Image\n",
        "\n",
        "model_id = \"Lykon/dreamshaper-7\"\n",
        "adapter_id = \"latent-consistency/lcm-lora-sdv1-5\"\n",
        "\n",
        "pipe = AutoPipelineForText2Image.from_pretrained(model_id, torch_dtype=torch.float16, variant=\"fp16\")\n",
        "pipe.scheduler = LCMScheduler.from_config(pipe.scheduler.config)\n",
        "pipe.to(\"cuda\")\n",
        "\n",
        "# load and fuse lcm lora\n",
        "pipe.load_lora_weights(adapter_id)\n",
        "pipe.fuse_lora()\n",
        "\n",
        "\n",
        "prompt = \"Self-portrait oil painting, a beautiful cyborg with golden hair, 8k\"\n",
        "\n",
        "# disable guidance_scale by passing 0\n",
        "image = pipe(prompt=prompt, num_inference_steps=4, guidance_scale=0).images[0]\n"
      ],
      "metadata": {
        "id": "9fVOVB9YPmiQ"
      },
      "execution_count": null,
      "outputs": []
    },
    {
      "cell_type": "code",
      "source": [
        "import matplotlib.pyplot as plt\n",
        "\n",
        "# 이미지 생성\n",
        "prompt = \"A cute little girl wearing a red hooded cape, big bright eyes, soft smile, fairy tale style, standing in a magical forest, whimsical and dreamy atmosphere, highly detailed, vibrant colors, Studio Ghibli style\"\n",
        "image = pipe(prompt).images[0]\n",
        "\n",
        "# matplotlib으로 표시\n",
        "plt.figure(figsize=(10, 10))\n",
        "plt.imshow(image)\n",
        "plt.axis('off')\n",
        "plt.title(\"Red Hood\")\n",
        "plt.show()"
      ],
      "metadata": {
        "id": "d1fiqcEUDwxa"
      },
      "execution_count": null,
      "outputs": []
    },
    {
      "cell_type": "code",
      "source": [
        "import torch\n",
        "import gc\n",
        "\n",
        "# 기존 파이프라인 삭제\n",
        "del pipe\n",
        "torch.cuda.empty_cache()\n",
        "gc.collect()\n",
        "\n",
        "# 메모리 확인\n",
        "print(f\"GPU 메모리: {torch.cuda.memory_allocated()/1024**3:.2f} GB\")"
      ],
      "metadata": {
        "id": "VqA5FK8qCvGv"
      },
      "execution_count": null,
      "outputs": []
    }
  ]
}