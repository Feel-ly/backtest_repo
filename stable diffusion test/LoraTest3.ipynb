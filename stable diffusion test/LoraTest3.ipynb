{
  "nbformat": 4,
  "nbformat_minor": 0,
  "metadata": {
    "colab": {
      "provenance": [],
      "gpuType": "T4"
    },
    "kernelspec": {
      "name": "python3",
      "display_name": "Python 3"
    },
    "language_info": {
      "name": "python"
    },
    "accelerator": "GPU"
  },
  "cells": [
    {
      "cell_type": "code",
      "execution_count": null,
      "metadata": {
        "id": "i22QU-CYSiKC"
      },
      "outputs": [],
      "source": [
        "from diffusers import AutoPipelineForText2Image\n",
        "import torch\n",
        "\n",
        "pipe = AutoPipelineForText2Image.from_pretrained(\"stabilityai/sd-turbo\", torch_dtype=torch.float16, variant=\"fp16\")\n",
        "pipe.to(\"cuda\")\n",
        "\n",
        "# prompt = \"A cinematic shot of a baby racoon wearing an intricate italian priest robe.\"\n",
        "# image = pipe(prompt=prompt, num_inference_steps=1, guidance_scale=0.0).images[0]"
      ]
    },
    {
      "cell_type": "code",
      "source": [
        "from diffusers import AutoPipelineForText2Image\n",
        "import torch\n",
        "\n",
        "pipeline = AutoPipelineForText2Image.from_pretrained('runwayml/stable-diffusion-v1-5', torch_dtype=torch.float16).to('cuda')\n",
        "pipeline.load_lora_weights('artificialguybr/studioghibli-redmond-1-5v-studio-ghibli-lora-for-liberteredmond-sd-1-5', weight_name='StudioGhibliRedmond-15V-LiberteRedmond-StdGBRedmAF-StudioGhibli.safetensors')"
      ],
      "metadata": {
        "id": "10Q2Wb1vUjRS"
      },
      "execution_count": null,
      "outputs": []
    },
    {
      "cell_type": "code",
      "source": [
        "import matplotlib.pyplot as plt\n",
        "\n",
        "image = pipeline('A cute white dog sitting on top of a table with food, StdGBRedmAF, Studio Ghibli style').images[0]\n",
        "\n",
        "# matplotlib으로 표시\n",
        "plt.figure(figsize=(10, 10))\n",
        "plt.imshow(image)\n",
        "plt.axis('off')\n",
        "plt.title(\"a dog\")\n",
        "plt.show()"
      ],
      "metadata": {
        "id": "fQC2kDkpUpfq"
      },
      "execution_count": null,
      "outputs": []
    }
  ]
}