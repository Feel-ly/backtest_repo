{
  "nbformat": 4,
  "nbformat_minor": 0,
  "metadata": {
    "colab": {
      "provenance": [],
      "gpuType": "T4"
    },
    "kernelspec": {
      "name": "python3",
      "display_name": "Python 3"
    },
    "language_info": {
      "name": "python"
    },
    "accelerator": "GPU"
  },
  "cells": [
    {
      "cell_type": "code",
      "execution_count": null,
      "metadata": {
        "id": "Rym7Z6KW-xUD"
      },
      "outputs": [],
      "source": [
        "from diffusers import StableDiffusionPipeline\n",
        "import torch\n",
        "\n",
        "pipe = StableDiffusionPipeline.from_pretrained(\n",
        "    \"runwayml/stable-diffusion-v1-5\",\n",
        "    torch_dtype=torch.float16\n",
        ")\n",
        "pipe = pipe.to(\"cuda\")\n",
        "\n",
        "pipe.load_lora_weights(\"SydigiAI/WaterColorStyle-loRA\")\n",
        "\n",
        "# 이미지 생성\n",
        "prompt = \"watercolor painting, cute fairy tale princess in magical forest\"\n",
        "image = pipe(prompt).images[0]\n",
        "image.show()"
      ]
    },
    {
      "cell_type": "code",
      "source": [
        "import matplotlib.pyplot as plt\n",
        "\n",
        "# 이미지 생성\n",
        "prompt = \"watercolor painting, cute fairy tale princess in magical forest\"\n",
        "image = pipe(prompt).images[0]\n",
        "\n",
        "# matplotlib으로 표시\n",
        "plt.figure(figsize=(10, 10))\n",
        "plt.imshow(image)\n",
        "plt.axis('off')\n",
        "plt.title(\"Generated Image\")\n",
        "plt.show()"
      ],
      "metadata": {
        "id": "d1fiqcEUDwxa"
      },
      "execution_count": null,
      "outputs": []
    },
    {
      "cell_type": "code",
      "source": [
        "import torch\n",
        "import gc\n",
        "\n",
        "# 기존 파이프라인 삭제\n",
        "del pipe\n",
        "torch.cuda.empty_cache()\n",
        "gc.collect()\n",
        "\n",
        "# 메모리 확인\n",
        "print(f\"GPU 메모리: {torch.cuda.memory_allocated()/1024**3:.2f} GB\")"
      ],
      "metadata": {
        "id": "VqA5FK8qCvGv"
      },
      "execution_count": null,
      "outputs": []
    }
  ]
}