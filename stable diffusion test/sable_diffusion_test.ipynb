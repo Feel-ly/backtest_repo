{
  "nbformat": 4,
  "nbformat_minor": 0,
  "metadata": {
    "colab": {
      "provenance": [],
      "gpuType": "T4"
    },
    "kernelspec": {
      "name": "python3",
      "display_name": "Python 3"
    },
    "language_info": {
      "name": "python"
    },
    "accelerator": "GPU"
  },
  "cells": [
    {
      "cell_type": "code",
      "execution_count": null,
      "metadata": {
        "id": "0bsqR8tULHtR"
      },
      "outputs": [],
      "source": [
        "# 코랩 셀에서 실행\n",
        "!pip install diffusers transformers accelerate\n",
        "!pip install torch torchvision\n",
        "\n",
        "from diffusers import StableDiffusionPipeline\n",
        "import torch\n",
        "\n",
        "# 모델 로드\n",
        "pipe = StableDiffusionPipeline.from_pretrained(\n",
        "    \"runwayml/stable-diffusion-v1-5\",\n",
        "    torch_dtype=torch.float16\n",
        ")\n",
        "pipe = pipe.to(\"cuda\")\n",
        "\n",
        "# 이미지 생성\n",
        "image = pipe(\"a cat sitting on a chair\").images[0]\n",
        "image.show()"
      ]
    },
    {
      "cell_type": "code",
      "source": [
        "# 이렇게 해보세요\n",
        "import matplotlib.pyplot as plt\n",
        "\n",
        "image = pipe(\"a cat sitting on a chair\").images[0]\n",
        "plt.figure(figsize=(8, 8))\n",
        "plt.imshow(image)\n",
        "plt.axis('off')\n",
        "plt.show()"
      ],
      "metadata": {
        "id": "DdvRDcN4NPLR"
      },
      "execution_count": null,
      "outputs": []
    },
    {
      "cell_type": "code",
      "source": [
        "# 다양한 프롬프트 테스트\n",
        "prompts = [\n",
        "    \"a fairy tale castle in the clouds\",\n",
        "    \"a friendly dragon reading a book\",\n",
        "    \"children playing in a magical garden\",\n",
        "    \"a wise owl wearing glasses\"\n",
        "]\n",
        "\n",
        "for prompt in prompts:\n",
        "    image = pipe(prompt + \", children's book style\").images[0]\n",
        "    plt.figure(figsize=(6,6))\n",
        "    plt.imshow(image)\n",
        "    plt.title(prompt)\n",
        "    plt.axis('off')\n",
        "    plt.show()"
      ],
      "metadata": {
        "id": "AQlgUtvZOnA6"
      },
      "execution_count": null,
      "outputs": []
    }
  ]
}