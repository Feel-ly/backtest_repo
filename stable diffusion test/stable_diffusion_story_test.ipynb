{
  "cells": [
    {
      "cell_type": "code",
      "execution_count": null,
      "metadata": {
        "id": "ogfghtJDlUbn"
      },
      "outputs": [],
      "source": [
        "from diffusers import StableDiffusionPipeline\n",
        "import torch\n",
        "import matplotlib.pyplot as plt\n",
        "from PIL import Image\n",
        "import os"
      ]
    },
    {
      "cell_type": "code",
      "execution_count": null,
      "metadata": {
        "id": "56GrzQZEyvd_"
      },
      "outputs": [],
      "source": [
        "plt.rc('font', family='NanumBarunGothic')"
      ]
    },
    {
      "cell_type": "code",
      "execution_count": null,
      "metadata": {
        "id": "gCgx9dfGlo0-"
      },
      "outputs": [],
      "source": [
        "pipe = StableDiffusionPipeline.from_pretrained(\n",
        "    \"runwayml/stable-diffusion-v1-5\",\n",
        "    torch_dtype=torch.float16\n",
        ")\n",
        "pipe = pipe.to(\"cuda\")"
      ]
    },
    {
      "cell_type": "code",
      "execution_count": null,
      "metadata": {
        "id": "rxqPwQzSmLk-"
      },
      "outputs": [],
      "source": [
        "# 동화 설정\n",
        "\n",
        "# 동화 제목\n",
        "story_title = input('동화 제목 : ')\n",
        "\n",
        "# 페이지 수 설정\n",
        "while True:\n",
        "    try:\n",
        "        pages = int(input(\"몇 페이지 ? (숫자만 입력하세요): \"))\n",
        "        if pages > 10:\n",
        "            print(\"❌ 10페이지 이하로 해주세요\")\n",
        "            continue\n",
        "        elif pages < 1:\n",
        "            print(\"❌ 1페이지 이상으로 해주세요\")\n",
        "            continue\n",
        "        print(f\"페이지 수는 {pages}장 입니다\")\n",
        "        break\n",
        "    except ValueError:\n",
        "        print(\"❌ 숫자가 아닙니다. 다시 입력해주세요!\")\n",
        "\n",
        "# 인물 수 설정\n",
        "while True:\n",
        "    try:\n",
        "        characters = int(input(\"인물 수 : \"))\n",
        "        if characters > 5:\n",
        "            print(\"❌ 인물은 5명 이하로 해주세요\")\n",
        "            continue\n",
        "        elif characters < 1:\n",
        "          print(\"❌ 인물은 1명 이상으로 해주세요\")\n",
        "          continue\n",
        "        print(f\"인물 수는 {characters}명 입니다\")\n",
        "        break\n",
        "    except ValueError:\n",
        "        print(\"❌ 숫자가 아닙니다. 다시 입력해주세요!\")\n"
      ]
    },
    {
      "cell_type": "code",
      "execution_count": null,
      "metadata": {
        "id": "mXUAh0vloj-P"
      },
      "outputs": [],
      "source": [
        "# 캐릭터 설정\n",
        "character_style = {}\n",
        "\n",
        "for _ in range(characters):\n",
        "  name = input('인물 이름 : ')\n",
        "  style = input('인물의 생김새 입력하세요 : ')\n",
        "  character_style[name] = style  # 딕셔너리에 저장"
      ]
    },
    {
      "cell_type": "code",
      "execution_count": null,
      "metadata": {
        "id": "NuC9_0z5udLJ"
      },
      "outputs": [],
      "source": [
        "character_style"
      ]
    },
    {
      "cell_type": "code",
      "execution_count": null,
      "metadata": {
        "id": "h3b4O75UtVUt"
      },
      "outputs": [],
      "source": [
        "# 각 페이지별 스토리와 프롬프트\n",
        "\n",
        "story_pages = []\n",
        "page_dic = {}\n",
        "story = ''\n",
        "prompt = ''\n",
        "\n",
        "for page in range(1,pages+1):\n",
        "  story = input('내용을 입력하세요 : ')\n",
        "  prompt = input('프롬프트를 입력하세요 : ')\n",
        "  page_dic = {'page':page,'story':story,'prompt':prompt}\n",
        "  story_pages.append(page_dic)"
      ]
    },
    {
      "cell_type": "code",
      "execution_count": null,
      "metadata": {
        "id": "Em-ivCn8w_ss"
      },
      "outputs": [],
      "source": [
        "# 이미지 생성 및 저장\n",
        "def generate_storybook_images(story_pages, seed=42):\n",
        "    \"\"\"동화책 이미지들을 생성하고 저장하는 함수\"\"\"\n",
        "\n",
        "    # 결과 저장할 폴더 생성\n",
        "    os.makedirs(\"storybook_images\", exist_ok=True)\n",
        "\n",
        "    # 일관성을 위해 시드 설정\n",
        "    generator = torch.Generator(device=\"cuda\").manual_seed(seed)\n",
        "\n",
        "    generated_images = []\n",
        "\n",
        "    for page_info in story_pages:\n",
        "        print(f\"페이지 {page_info['page']} 생성 중...\")\n",
        "        print(f\"텍스트: {page_info['story']}\")\n",
        "\n",
        "        # 이미지 생성\n",
        "        image = pipe(\n",
        "            page_info['prompt'],\n",
        "            generator=generator,\n",
        "            num_inference_steps=30,\n",
        "            guidance_scale=7.5\n",
        "        ).images[0]\n",
        "\n",
        "        # 이미지 저장\n",
        "        filename = f\"storybook_images/page_{page_info['page']:02d}.png\"\n",
        "        image.save(filename)\n",
        "\n",
        "        generated_images.append({\n",
        "            'page': page_info['page'],\n",
        "            'image': image,\n",
        "            'story': page_info['story'],\n",
        "            'filename': filename\n",
        "        })\n",
        "\n",
        "        print(f\"저장됨: {filename}\\n\")\n",
        "\n",
        "    return generated_images\n"
      ]
    },
    {
      "cell_type": "code",
      "execution_count": null,
      "metadata": {
        "id": "jfhoJV1AxLq3"
      },
      "outputs": [],
      "source": [
        "# 이미지 생성 실행\n",
        "images = generate_storybook_images(story_pages)\n",
        "\n",
        "# 생성된 이미지들을 한 번에 보기\n",
        "def display_storybook(images):\n",
        "    \"\"\"생성된 동화책 이미지들을 예쁘게 출력\"\"\"\n",
        "    fig, axes = plt.subplots(2, 3, figsize=(18, 12))\n",
        "    fig.suptitle(story_title, fontsize=20, fontweight='bold')\n",
        "\n",
        "    # 2x3 그리드로 배치 (5개 이미지 + 1개 빈 공간)\n",
        "    positions = [(0,0), (0,1), (0,2), (1,0), (1,1)]\n",
        "\n",
        "    for i, img_info in enumerate(images):\n",
        "        if i < len(positions):\n",
        "            row, col = positions[i]\n",
        "            axes[row, col].imshow(img_info['image'])\n",
        "            axes[row, col].set_title(f\"페이지 {img_info['page']}\", fontsize=14, fontweight='bold')\n",
        "            axes[row, col].axis('off')\n",
        "\n",
        "            # 텍스트를 이미지 아래에 추가\n",
        "            axes[row, col].story(0.5, -0.15, img_info['story'],\n",
        "                              transform=axes[row, col].transAxes,\n",
        "                              ha='center', va='top', fontsize=10,\n",
        "                              wrap=True, bbox=dict(boxstyle=\"round,pad=0.3\",\n",
        "                              facecolor=\"lightblue\", alpha=0.7))\n",
        "\n",
        "    # 마지막 빈 공간 숨기기\n",
        "    axes[1, 2].axis('off')\n",
        "\n",
        "    plt.tight_layout()\n",
        "    plt.show()"
      ]
    },
    {
      "cell_type": "code",
      "execution_count": null,
      "metadata": {
        "id": "q4VLOb9eyAe-"
      },
      "outputs": [],
      "source": [
        "# 동화책 이미지들 출력\n",
        "display_storybook(images)"
      ]
    }
  ],
  "metadata": {
    "accelerator": "GPU",
    "colab": {
      "gpuType": "T4",
      "provenance": []
    },
    "kernelspec": {
      "display_name": "Python 3",
      "name": "python3"
    },
    "language_info": {
      "name": "python"
    }
  },
  "nbformat": 4,
  "nbformat_minor": 0
}
