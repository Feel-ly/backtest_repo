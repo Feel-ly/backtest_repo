{
  "nbformat": 4,
  "nbformat_minor": 0,
  "metadata": {
    "colab": {
      "provenance": [],
      "gpuType": "T4"
    },
    "kernelspec": {
      "name": "python3",
      "display_name": "Python 3"
    },
    "language_info": {
      "name": "python"
    },
    "accelerator": "GPU",
    "widgets": {
      "application/vnd.jupyter.widget-state+json": {
        "7f615d47a26e4781bf8995bc744b0d55": {
          "model_module": "@jupyter-widgets/controls",
          "model_name": "HBoxModel",
          "model_module_version": "1.5.0",
          "state": {
            "_dom_classes": [],
            "_model_module": "@jupyter-widgets/controls",
            "_model_module_version": "1.5.0",
            "_model_name": "HBoxModel",
            "_view_count": null,
            "_view_module": "@jupyter-widgets/controls",
            "_view_module_version": "1.5.0",
            "_view_name": "HBoxView",
            "box_style": "",
            "children": [
              "IPY_MODEL_b8acd46183d24b11875f89236258f0bd",
              "IPY_MODEL_673cb2695ea34beca27ccde0dd822cda",
              "IPY_MODEL_4d6610eaf1694d9ca155314625f69a95"
            ],
            "layout": "IPY_MODEL_c25f1948540f421699d0c887b4cb097d"
          }
        },
        "b8acd46183d24b11875f89236258f0bd": {
          "model_module": "@jupyter-widgets/controls",
          "model_name": "HTMLModel",
          "model_module_version": "1.5.0",
          "state": {
            "_dom_classes": [],
            "_model_module": "@jupyter-widgets/controls",
            "_model_module_version": "1.5.0",
            "_model_name": "HTMLModel",
            "_view_count": null,
            "_view_module": "@jupyter-widgets/controls",
            "_view_module_version": "1.5.0",
            "_view_name": "HTMLView",
            "description": "",
            "description_tooltip": null,
            "layout": "IPY_MODEL_79a36c407d154de8945b9acb963c3b6c",
            "placeholder": "​",
            "style": "IPY_MODEL_d68264791d734e09b4e78e32048b1883",
            "value": "Loading pipeline components...: 100%"
          }
        },
        "673cb2695ea34beca27ccde0dd822cda": {
          "model_module": "@jupyter-widgets/controls",
          "model_name": "FloatProgressModel",
          "model_module_version": "1.5.0",
          "state": {
            "_dom_classes": [],
            "_model_module": "@jupyter-widgets/controls",
            "_model_module_version": "1.5.0",
            "_model_name": "FloatProgressModel",
            "_view_count": null,
            "_view_module": "@jupyter-widgets/controls",
            "_view_module_version": "1.5.0",
            "_view_name": "ProgressView",
            "bar_style": "success",
            "description": "",
            "description_tooltip": null,
            "layout": "IPY_MODEL_5359ea337a1b4336b3b57689235ef886",
            "max": 7,
            "min": 0,
            "orientation": "horizontal",
            "style": "IPY_MODEL_a2e1fd9ead6e4f2c8879d57855c5ed66",
            "value": 7
          }
        },
        "4d6610eaf1694d9ca155314625f69a95": {
          "model_module": "@jupyter-widgets/controls",
          "model_name": "HTMLModel",
          "model_module_version": "1.5.0",
          "state": {
            "_dom_classes": [],
            "_model_module": "@jupyter-widgets/controls",
            "_model_module_version": "1.5.0",
            "_model_name": "HTMLModel",
            "_view_count": null,
            "_view_module": "@jupyter-widgets/controls",
            "_view_module_version": "1.5.0",
            "_view_name": "HTMLView",
            "description": "",
            "description_tooltip": null,
            "layout": "IPY_MODEL_9447db88fd0e46ec816c785e2ef38a42",
            "placeholder": "​",
            "style": "IPY_MODEL_bcfbb9cda8ca43c596d09b11c40013f7",
            "value": " 7/7 [00:19&lt;00:00,  2.37s/it]"
          }
        },
        "c25f1948540f421699d0c887b4cb097d": {
          "model_module": "@jupyter-widgets/base",
          "model_name": "LayoutModel",
          "model_module_version": "1.2.0",
          "state": {
            "_model_module": "@jupyter-widgets/base",
            "_model_module_version": "1.2.0",
            "_model_name": "LayoutModel",
            "_view_count": null,
            "_view_module": "@jupyter-widgets/base",
            "_view_module_version": "1.2.0",
            "_view_name": "LayoutView",
            "align_content": null,
            "align_items": null,
            "align_self": null,
            "border": null,
            "bottom": null,
            "display": null,
            "flex": null,
            "flex_flow": null,
            "grid_area": null,
            "grid_auto_columns": null,
            "grid_auto_flow": null,
            "grid_auto_rows": null,
            "grid_column": null,
            "grid_gap": null,
            "grid_row": null,
            "grid_template_areas": null,
            "grid_template_columns": null,
            "grid_template_rows": null,
            "height": null,
            "justify_content": null,
            "justify_items": null,
            "left": null,
            "margin": null,
            "max_height": null,
            "max_width": null,
            "min_height": null,
            "min_width": null,
            "object_fit": null,
            "object_position": null,
            "order": null,
            "overflow": null,
            "overflow_x": null,
            "overflow_y": null,
            "padding": null,
            "right": null,
            "top": null,
            "visibility": null,
            "width": null
          }
        },
        "79a36c407d154de8945b9acb963c3b6c": {
          "model_module": "@jupyter-widgets/base",
          "model_name": "LayoutModel",
          "model_module_version": "1.2.0",
          "state": {
            "_model_module": "@jupyter-widgets/base",
            "_model_module_version": "1.2.0",
            "_model_name": "LayoutModel",
            "_view_count": null,
            "_view_module": "@jupyter-widgets/base",
            "_view_module_version": "1.2.0",
            "_view_name": "LayoutView",
            "align_content": null,
            "align_items": null,
            "align_self": null,
            "border": null,
            "bottom": null,
            "display": null,
            "flex": null,
            "flex_flow": null,
            "grid_area": null,
            "grid_auto_columns": null,
            "grid_auto_flow": null,
            "grid_auto_rows": null,
            "grid_column": null,
            "grid_gap": null,
            "grid_row": null,
            "grid_template_areas": null,
            "grid_template_columns": null,
            "grid_template_rows": null,
            "height": null,
            "justify_content": null,
            "justify_items": null,
            "left": null,
            "margin": null,
            "max_height": null,
            "max_width": null,
            "min_height": null,
            "min_width": null,
            "object_fit": null,
            "object_position": null,
            "order": null,
            "overflow": null,
            "overflow_x": null,
            "overflow_y": null,
            "padding": null,
            "right": null,
            "top": null,
            "visibility": null,
            "width": null
          }
        },
        "d68264791d734e09b4e78e32048b1883": {
          "model_module": "@jupyter-widgets/controls",
          "model_name": "DescriptionStyleModel",
          "model_module_version": "1.5.0",
          "state": {
            "_model_module": "@jupyter-widgets/controls",
            "_model_module_version": "1.5.0",
            "_model_name": "DescriptionStyleModel",
            "_view_count": null,
            "_view_module": "@jupyter-widgets/base",
            "_view_module_version": "1.2.0",
            "_view_name": "StyleView",
            "description_width": ""
          }
        },
        "5359ea337a1b4336b3b57689235ef886": {
          "model_module": "@jupyter-widgets/base",
          "model_name": "LayoutModel",
          "model_module_version": "1.2.0",
          "state": {
            "_model_module": "@jupyter-widgets/base",
            "_model_module_version": "1.2.0",
            "_model_name": "LayoutModel",
            "_view_count": null,
            "_view_module": "@jupyter-widgets/base",
            "_view_module_version": "1.2.0",
            "_view_name": "LayoutView",
            "align_content": null,
            "align_items": null,
            "align_self": null,
            "border": null,
            "bottom": null,
            "display": null,
            "flex": null,
            "flex_flow": null,
            "grid_area": null,
            "grid_auto_columns": null,
            "grid_auto_flow": null,
            "grid_auto_rows": null,
            "grid_column": null,
            "grid_gap": null,
            "grid_row": null,
            "grid_template_areas": null,
            "grid_template_columns": null,
            "grid_template_rows": null,
            "height": null,
            "justify_content": null,
            "justify_items": null,
            "left": null,
            "margin": null,
            "max_height": null,
            "max_width": null,
            "min_height": null,
            "min_width": null,
            "object_fit": null,
            "object_position": null,
            "order": null,
            "overflow": null,
            "overflow_x": null,
            "overflow_y": null,
            "padding": null,
            "right": null,
            "top": null,
            "visibility": null,
            "width": null
          }
        },
        "a2e1fd9ead6e4f2c8879d57855c5ed66": {
          "model_module": "@jupyter-widgets/controls",
          "model_name": "ProgressStyleModel",
          "model_module_version": "1.5.0",
          "state": {
            "_model_module": "@jupyter-widgets/controls",
            "_model_module_version": "1.5.0",
            "_model_name": "ProgressStyleModel",
            "_view_count": null,
            "_view_module": "@jupyter-widgets/base",
            "_view_module_version": "1.2.0",
            "_view_name": "StyleView",
            "bar_color": null,
            "description_width": ""
          }
        },
        "9447db88fd0e46ec816c785e2ef38a42": {
          "model_module": "@jupyter-widgets/base",
          "model_name": "LayoutModel",
          "model_module_version": "1.2.0",
          "state": {
            "_model_module": "@jupyter-widgets/base",
            "_model_module_version": "1.2.0",
            "_model_name": "LayoutModel",
            "_view_count": null,
            "_view_module": "@jupyter-widgets/base",
            "_view_module_version": "1.2.0",
            "_view_name": "LayoutView",
            "align_content": null,
            "align_items": null,
            "align_self": null,
            "border": null,
            "bottom": null,
            "display": null,
            "flex": null,
            "flex_flow": null,
            "grid_area": null,
            "grid_auto_columns": null,
            "grid_auto_flow": null,
            "grid_auto_rows": null,
            "grid_column": null,
            "grid_gap": null,
            "grid_row": null,
            "grid_template_areas": null,
            "grid_template_columns": null,
            "grid_template_rows": null,
            "height": null,
            "justify_content": null,
            "justify_items": null,
            "left": null,
            "margin": null,
            "max_height": null,
            "max_width": null,
            "min_height": null,
            "min_width": null,
            "object_fit": null,
            "object_position": null,
            "order": null,
            "overflow": null,
            "overflow_x": null,
            "overflow_y": null,
            "padding": null,
            "right": null,
            "top": null,
            "visibility": null,
            "width": null
          }
        },
        "bcfbb9cda8ca43c596d09b11c40013f7": {
          "model_module": "@jupyter-widgets/controls",
          "model_name": "DescriptionStyleModel",
          "model_module_version": "1.5.0",
          "state": {
            "_model_module": "@jupyter-widgets/controls",
            "_model_module_version": "1.5.0",
            "_model_name": "DescriptionStyleModel",
            "_view_count": null,
            "_view_module": "@jupyter-widgets/base",
            "_view_module_version": "1.2.0",
            "_view_name": "StyleView",
            "description_width": ""
          }
        }
      }
    }
  },
  "cells": [
    {
      "cell_type": "code",
      "execution_count": 1,
      "metadata": {
        "id": "ogfghtJDlUbn"
      },
      "outputs": [],
      "source": [
        "from diffusers import StableDiffusionPipeline\n",
        "import torch\n",
        "import matplotlib.pyplot as plt\n",
        "from PIL import Image\n",
        "import os"
      ]
    },
    {
      "cell_type": "code",
      "source": [
        "plt.rc('font', family='NanumBarunGothic')"
      ],
      "metadata": {
        "id": "56GrzQZEyvd_"
      },
      "execution_count": 2,
      "outputs": []
    },
    {
      "cell_type": "code",
      "source": [
        "pipe = StableDiffusionPipeline.from_pretrained(\n",
        "    \"runwayml/stable-diffusion-v1-5\",\n",
        "    torch_dtype=torch.float16\n",
        ")\n",
        "pipe = pipe.to(\"cuda\")"
      ],
      "metadata": {
        "id": "gCgx9dfGlo0-",
        "colab": {
          "base_uri": "https://localhost:8080/",
          "height": 176,
          "referenced_widgets": [
            "7f615d47a26e4781bf8995bc744b0d55",
            "b8acd46183d24b11875f89236258f0bd",
            "673cb2695ea34beca27ccde0dd822cda",
            "4d6610eaf1694d9ca155314625f69a95",
            "c25f1948540f421699d0c887b4cb097d",
            "79a36c407d154de8945b9acb963c3b6c",
            "d68264791d734e09b4e78e32048b1883",
            "5359ea337a1b4336b3b57689235ef886",
            "a2e1fd9ead6e4f2c8879d57855c5ed66",
            "9447db88fd0e46ec816c785e2ef38a42",
            "bcfbb9cda8ca43c596d09b11c40013f7"
          ]
        },
        "outputId": "8edc3694-f3d3-4861-dff6-78d29e81dc5f"
      },
      "execution_count": 3,
      "outputs": [
        {
          "output_type": "stream",
          "name": "stderr",
          "text": [
            "/usr/local/lib/python3.12/dist-packages/huggingface_hub/utils/_auth.py:94: UserWarning: \n",
            "The secret `HF_TOKEN` does not exist in your Colab secrets.\n",
            "To authenticate with the Hugging Face Hub, create a token in your settings tab (https://huggingface.co/settings/tokens), set it as secret in your Google Colab and restart your session.\n",
            "You will be able to reuse this secret in all of your notebooks.\n",
            "Please note that authentication is recommended but still optional to access public models or datasets.\n",
            "  warnings.warn(\n"
          ]
        },
        {
          "output_type": "display_data",
          "data": {
            "text/plain": [
              "Loading pipeline components...:   0%|          | 0/7 [00:00<?, ?it/s]"
            ],
            "application/vnd.jupyter.widget-view+json": {
              "version_major": 2,
              "version_minor": 0,
              "model_id": "7f615d47a26e4781bf8995bc744b0d55"
            }
          },
          "metadata": {}
        },
        {
          "output_type": "stream",
          "name": "stderr",
          "text": [
            "`torch_dtype` is deprecated! Use `dtype` instead!\n"
          ]
        }
      ]
    },
    {
      "cell_type": "code",
      "source": [
        "# 동화 설정\n",
        "\n",
        "# 동화 제목\n",
        "story_title = input('동화 제목 : ')\n",
        "\n",
        "# 페이지 수 설정\n",
        "while True:\n",
        "    try:\n",
        "        pages = int(input(\"몇 페이지 ? (숫자만 입력하세요): \"))\n",
        "        if pages > 10:\n",
        "            print(\"❌ 10페이지 이하로 해주세요\")\n",
        "            continue\n",
        "        elif pages < 1:\n",
        "            print(\"❌ 1페이지 이상으로 해주세요\")\n",
        "            continue\n",
        "        print(f\"페이지 수는 {pages}장 입니다\")\n",
        "        break\n",
        "    except ValueError:\n",
        "        print(\"❌ 숫자가 아닙니다. 다시 입력해주세요!\")\n",
        "\n",
        "# 인물 수 설정\n",
        "while True:\n",
        "    try:\n",
        "        characters = int(input(\"인물 수 : \"))\n",
        "        if characters > 5:\n",
        "            print(\"❌ 인물은 5명 이하로 해주세요\")\n",
        "            continue\n",
        "        elif characters < 1:\n",
        "          print(\"❌ 인물은 1명 이상으로 해주세요\")\n",
        "          continue\n",
        "        print(f\"인물 수는 {characters}명 입니다\")\n",
        "        break\n",
        "    except ValueError:\n",
        "        print(\"❌ 숫자가 아닙니다. 다시 입력해주세요!\")\n"
      ],
      "metadata": {
        "id": "rxqPwQzSmLk-"
      },
      "execution_count": null,
      "outputs": []
    },
    {
      "cell_type": "code",
      "source": [
        "# 캐릭터 설정\n",
        "character_style_dic = {}\n",
        "character_style_list = []\n",
        "total_style = \"A cute, cartoon-style children's book illustration, featuring soft pastel colors, a warm and friendly atmosphere, playful and charming characters, simple and clear details, suitable for young kids.\"\n",
        "\n",
        "for _ in range(characters):\n",
        "  name = input('인물 이름 : ')\n",
        "  style = input('인물의 생김새 입력하세요 : ')\n",
        "  character_style_dic = {'name':name,'style':style}\n",
        "  character_style_list.append(character_style_dic)\n",
        "\n",
        "final_characters_style = []\n",
        "for item in character_style_list:\n",
        "    updated_item = {\n",
        "        'name': item['name'],\n",
        "        'style': f\"{item['style']}, {total_style}\"\n",
        "    }\n",
        "    final_characters_style.append(updated_item)"
      ],
      "metadata": {
        "id": "mXUAh0vloj-P"
      },
      "execution_count": null,
      "outputs": []
    },
    {
      "cell_type": "code",
      "source": [
        "character_style_list"
      ],
      "metadata": {
        "id": "NuC9_0z5udLJ"
      },
      "execution_count": null,
      "outputs": []
    },
    {
      "cell_type": "code",
      "source": [
        "final_characters_style"
      ],
      "metadata": {
        "id": "1LcSj3jr0xPb"
      },
      "execution_count": null,
      "outputs": []
    },
    {
      "cell_type": "code",
      "source": [
        "def character_sketch(final_characters_style, seed=42):\n",
        "    \"\"\"캐릭터를 그리는 함수\"\"\"\n",
        "    # 결과 저장할 폴더 생성\n",
        "    os.makedirs(\"storybook_images\", exist_ok=True)\n",
        "\n",
        "    # 일관성을 위해 시드 설정\n",
        "    generator = torch.Generator(device=\"cuda\").manual_seed(seed)\n",
        "\n",
        "    generated_characters = []\n",
        "\n",
        "    for i, character in enumerate(final_characters_style):\n",
        "        print(f\"캐릭터 {character['name']} 생성 중...\")\n",
        "\n",
        "        # 이미지 생성\n",
        "        image = pipe(\n",
        "            character['style'],\n",
        "            generator=generator,\n",
        "            num_inference_steps=30,\n",
        "            guidance_scale=7.5\n",
        "        ).images[0]\n",
        "\n",
        "        # 이미지 저장\n",
        "        filename = f\"storybook_images/{character['name']}_character.png\"\n",
        "        image.save(filename)\n",
        "\n",
        "        # 생성된 캐릭터 정보 저장\n",
        "        generated_characters.append({\n",
        "            'name': character['name'],\n",
        "            'style': character['style'],\n",
        "            'image': image,\n",
        "            'filename': filename\n",
        "        })\n",
        "\n",
        "        print(f\"캐릭터 {character['name']} 저장 완료: {filename}\")\n",
        "\n",
        "    return generated_characters"
      ],
      "metadata": {
        "id": "4tXrL7oZqSmA"
      },
      "execution_count": null,
      "outputs": []
    },
    {
      "cell_type": "code",
      "source": [
        "# 캐릭터 생성\n",
        "generated_characters = character_sketch(final_characters_style)\n",
        "\n",
        "# 생성된 캐릭터들 한번에 출력\n",
        "def display_characters(generated_characters):\n",
        "    fig, axes = plt.subplots(1, len(generated_characters), figsize=(5*len(generated_characters), 5))\n",
        "\n",
        "    if len(generated_characters) == 1:\n",
        "        axes = [axes]  # 단일 이미지일 때 리스트로 변환\n",
        "\n",
        "    for i, character in enumerate(generated_characters):\n",
        "        axes[i].imshow(character['image'])\n",
        "        axes[i].set_title(f\"{character['name']}\")\n",
        "        axes[i].axis('off')\n",
        "\n",
        "    plt.tight_layout()\n",
        "    plt.show()\n",
        "\n",
        "# 출력 실행\n",
        "display_characters(generated_characters)"
      ],
      "metadata": {
        "id": "yuigKXh-uFk4"
      },
      "execution_count": null,
      "outputs": []
    },
    {
      "cell_type": "code",
      "source": [
        "# 각 페이지별 스토리와 프롬프트\n",
        "\n",
        "story_pages = []\n",
        "page_dic = {}\n",
        "story = ''\n",
        "prompt = ''\n",
        "\n",
        "for page in range(1,pages+1):\n",
        "  story = input('내용을 입력하세요 : ')\n",
        "  prompt = input('프롬프트를 입력하세요 : ')\n",
        "  page_dic = {'page':page,'story':story,'prompt':prompt}\n",
        "  story_pages.append(page_dic)"
      ],
      "metadata": {
        "id": "h3b4O75UtVUt"
      },
      "execution_count": null,
      "outputs": []
    },
    {
      "cell_type": "code",
      "source": [
        "story_pages"
      ],
      "metadata": {
        "id": "oa6cL6d2ouXP"
      },
      "execution_count": null,
      "outputs": []
    },
    {
      "cell_type": "code",
      "source": [
        "# 이미지 생성 및 저장\n",
        "def generate_storybook_images(story_pages, seed=42):\n",
        "    \"\"\"동화책 이미지들을 생성하고 저장하는 함수\"\"\"\n",
        "\n",
        "    # 결과 저장할 폴더 생성\n",
        "    os.makedirs(\"storybook_images\", exist_ok=True)\n",
        "\n",
        "    # 일관성을 위해 시드 설정\n",
        "    generator = torch.Generator(device=\"cuda\").manual_seed(seed)\n",
        "\n",
        "    generated_images = []\n",
        "\n",
        "    for page_info in story_pages:\n",
        "        print(f\"페이지 {page_info['page']} 생성 중...\")\n",
        "        print(f\"텍스트: {page_info['story']}\")\n",
        "\n",
        "        # 이미지 생성\n",
        "        image = pipe(\n",
        "            page_info['prompt'],\n",
        "            generator=generator,\n",
        "            num_inference_steps=30,\n",
        "            guidance_scale=7.5\n",
        "        ).images[0]\n",
        "\n",
        "        # 이미지 저장\n",
        "        filename = f\"storybook_images/page_{page_info['page']:02d}.png\"\n",
        "        image.save(filename)\n",
        "\n",
        "        generated_images.append({\n",
        "            'page': page_info['page'],\n",
        "            'image': image,\n",
        "            'story': page_info['story'],\n",
        "            'filename': filename\n",
        "        })\n",
        "\n",
        "        print(f\"저장됨: {filename}\\n\")\n",
        "\n",
        "    return generated_images\n"
      ],
      "metadata": {
        "id": "Em-ivCn8w_ss"
      },
      "execution_count": null,
      "outputs": []
    },
    {
      "cell_type": "code",
      "source": [
        "# 이미지 생성 실행\n",
        "images = generate_storybook_images(story_pages)\n",
        "\n",
        "# 생성된 이미지들을 한 번에 보기\n",
        "def display_storybook(images):\n",
        "    \"\"\"생성된 동화책 이미지들을 예쁘게 출력\"\"\"\n",
        "    fig, axes = plt.subplots(2, 3, figsize=(18, 12))\n",
        "    fig.suptitle(story_title, fontsize=20, fontweight='bold')\n",
        "\n",
        "    # 2x3 그리드로 배치 (5개 이미지 + 1개 빈 공간)\n",
        "    positions = [(0,0), (0,1), (0,2), (1,0), (1,1)]\n",
        "\n",
        "    for i, img_info in enumerate(images):\n",
        "        if i < len(positions):\n",
        "            row, col = positions[i]\n",
        "            axes[row, col].imshow(img_info['image'])\n",
        "            axes[row, col].set_title(f\"페이지 {img_info['page']}\", fontsize=14, fontweight='bold')\n",
        "            axes[row, col].axis('off')\n",
        "\n",
        "            # 텍스트를 이미지 아래에 추가\n",
        "            axes[row, col].story(0.5, -0.15, img_info['story'],\n",
        "                              transform=axes[row, col].transAxes,\n",
        "                              ha='center', va='top', fontsize=10,\n",
        "                              wrap=True, bbox=dict(boxstyle=\"round,pad=0.3\",\n",
        "                              facecolor=\"lightblue\", alpha=0.7))\n",
        "\n",
        "    # 마지막 빈 공간 숨기기\n",
        "    axes[1, 2].axis('off')\n",
        "\n",
        "    plt.tight_layout()\n",
        "    plt.show()"
      ],
      "metadata": {
        "id": "jfhoJV1AxLq3"
      },
      "execution_count": null,
      "outputs": []
    },
    {
      "cell_type": "code",
      "source": [
        "# 동화책 이미지들 출력\n",
        "display_storybook(images)"
      ],
      "metadata": {
        "id": "q4VLOb9eyAe-"
      },
      "execution_count": null,
      "outputs": []
    }
  ]
}