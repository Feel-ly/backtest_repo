{
  "nbformat": 4,
  "nbformat_minor": 0,
  "metadata": {
    "colab": {
      "provenance": [],
      "gpuType": "T4"
    },
    "kernelspec": {
      "name": "python3",
      "display_name": "Python 3"
    },
    "language_info": {
      "name": "python"
    },
    "accelerator": "GPU"
  },
  "cells": [
    {
      "cell_type": "code",
      "execution_count": null,
      "metadata": {
        "id": "KDQFejNyzrRp"
      },
      "outputs": [],
      "source": [
        "from diffusers import DiffusionPipeline\n",
        "\n",
        "pipe = DiffusionPipeline.from_pretrained(\"stabilityai/stable-diffusion-xl-base-1.0\")\n",
        "pipe.load_lora_weights(\"alvdansen/phantasma-anime\")\n"
      ]
    },
    {
      "cell_type": "code",
      "source": [
        "import matplotlib.pyplot as plt\n",
        "\n",
        "prompt = \"A girl wear red hood\"\n",
        "image = pipe(prompt).images[0]\n",
        "\n",
        "# matplotlib으로 표시\n",
        "plt.figure(figsize=(10, 10))\n",
        "plt.imshow(image)\n",
        "plt.axis('off')\n",
        "plt.title(\"Generated Image\")\n",
        "plt.show()"
      ],
      "metadata": {
        "id": "ljhoCnhf4mDv"
      },
      "execution_count": null,
      "outputs": []
    }
  ]
}