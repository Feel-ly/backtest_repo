{
  "nbformat": 4,
  "nbformat_minor": 0,
  "metadata": {
    "colab": {
      "provenance": [],
      "gpuType": "T4"
    },
    "kernelspec": {
      "name": "python3",
      "display_name": "Python 3"
    },
    "language_info": {
      "name": "python"
    },
    "accelerator": "GPU"
  },
  "cells": [
    {
      "cell_type": "code",
      "execution_count": null,
      "metadata": {
        "id": "DTBYASCvqSLq"
      },
      "outputs": [],
      "source": [
        "!pip install diffusers transformers accelerate"
      ]
    },
    {
      "cell_type": "code",
      "source": [
        "!pip install torch torchvision"
      ],
      "metadata": {
        "id": "VQAfYm4xreat"
      },
      "execution_count": null,
      "outputs": []
    },
    {
      "cell_type": "code",
      "source": [
        "!pip install pillow"
      ],
      "metadata": {
        "id": "7LbXC1GGrgX0"
      },
      "execution_count": null,
      "outputs": []
    },
    {
      "cell_type": "code",
      "source": [
        "!sudo apt-get install -y fonts-nanum"
      ],
      "metadata": {
        "id": "CUs06XbLvFDW"
      },
      "execution_count": null,
      "outputs": []
    },
    {
      "cell_type": "code",
      "source": [
        "!sudo fc-cache -fv"
      ],
      "metadata": {
        "id": "ehUV4bQTvOuF"
      },
      "execution_count": null,
      "outputs": []
    },
    {
      "cell_type": "code",
      "source": [
        "!rm ~/.cache/matplotlib -rf"
      ],
      "metadata": {
        "id": "ECKAt0P8vR35"
      },
      "execution_count": null,
      "outputs": []
    },
    {
      "cell_type": "code",
      "source": [
        "plt.rc('font', family='NanumBarunGothic')"
      ],
      "metadata": {
        "id": "N_2qdi3LwKYU"
      },
      "execution_count": null,
      "outputs": []
    },
    {
      "cell_type": "code",
      "source": [
        "from diffusers import StableDiffusionPipeline\n",
        "import torch\n",
        "import matplotlib.pyplot as plt\n",
        "from PIL import Image\n",
        "import os"
      ],
      "metadata": {
        "id": "TcMRc0ZDriN6"
      },
      "execution_count": null,
      "outputs": []
    },
    {
      "cell_type": "code",
      "source": [
        "# 모델 로드 (일관성을 위해 시드 고정)\n",
        "pipe = StableDiffusionPipeline.from_pretrained(\n",
        "    \"runwayml/stable-diffusion-v1-5\",\n",
        "    torch_dtype=torch.float16\n",
        ")\n",
        "pipe = pipe.to(\"cuda\")\n"
      ],
      "metadata": {
        "id": "PtPlXwlkrlDs"
      },
      "execution_count": null,
      "outputs": []
    },
    {
      "cell_type": "code",
      "source": [
        "# 동화 설정\n",
        "story_title = \"용감한 토끼 루나의 모험\"\n",
        "character_style = \"cute cartoon style, children's book illustration, soft colors, friendly atmosphere\""
      ],
      "metadata": {
        "id": "XLSKzPayunV4"
      },
      "execution_count": null,
      "outputs": []
    },
    {
      "cell_type": "code",
      "source": [
        "# 각 페이지별 스토리와 프롬프트\n",
        "story_pages = [\n",
        "    {\n",
        "        \"page\": 1,\n",
        "        \"text\": \"옛날 옛적, 숲 속 작은 마을에 루나라는 용감한 토끼가 살고 있었어요.\",\n",
        "        \"prompt\": f\"a brave little rabbit named Luna in a small forest village, cozy houses in background, {character_style}\"\n",
        "    },\n",
        "    {\n",
        "        \"page\": 2,\n",
        "        \"text\": \"어느 날, 마을의 당근밭이 신비한 안개로 덮였어요.\",\n",
        "        \"prompt\": f\"mysterious fog covering a carrot garden, rabbit Luna looking worried, village in background, {character_style}\"\n",
        "    },\n",
        "    {\n",
        "        \"page\": 3,\n",
        "        \"text\": \"루나는 용기를 내어 안개 속으로 들어갔어요. 그곳에서 슬픈 마법사를 만났답니다.\",\n",
        "        \"prompt\": f\"brave rabbit Luna meeting a sad wizard in magical fog, mystical atmosphere, {character_style}\"\n",
        "    },\n",
        "    {\n",
        "        \"page\": 4,\n",
        "        \"text\": \"마법사는 자신의 마법이 잘못되어 안개가 생겼다고 말했어요. 루나는 도와주기로 했어요.\",\n",
        "        \"prompt\": f\"rabbit Luna helping a kind wizard, magical sparkles around them, working together, {character_style}\"\n",
        "    },\n",
        "    {\n",
        "        \"page\": 5,\n",
        "        \"text\": \"루나와 마법사가 힘을 합쳐 안개를 걷어내자, 마을에 다시 평화가 찾아왔어요.\",\n",
        "        \"prompt\": f\"happy ending scene, rabbit Luna and wizard celebrating, clear sunny village with beautiful gardens, {character_style}\"\n",
        "    }\n",
        "]"
      ],
      "metadata": {
        "id": "7v7gdXcCupnS"
      },
      "execution_count": null,
      "outputs": []
    },
    {
      "cell_type": "code",
      "source": [
        "# 이미지 생성 및 저장\n",
        "def generate_storybook_images(story_pages, seed=42):\n",
        "    \"\"\"동화책 이미지들을 생성하고 저장하는 함수\"\"\"\n",
        "\n",
        "    # 결과 저장할 폴더 생성\n",
        "    os.makedirs(\"storybook_images\", exist_ok=True)\n",
        "\n",
        "    # 일관성을 위해 시드 설정\n",
        "    generator = torch.Generator(device=\"cuda\").manual_seed(seed)\n",
        "\n",
        "    generated_images = []\n",
        "\n",
        "    for page_info in story_pages:\n",
        "        print(f\"페이지 {page_info['page']} 생성 중...\")\n",
        "        print(f\"텍스트: {page_info['text']}\")\n",
        "\n",
        "        # 이미지 생성\n",
        "        image = pipe(\n",
        "            page_info['prompt'],\n",
        "            generator=generator,\n",
        "            num_inference_steps=30,\n",
        "            guidance_scale=7.5\n",
        "        ).images[0]\n",
        "\n",
        "        # 이미지 저장\n",
        "        filename = f\"storybook_images/page_{page_info['page']:02d}.png\"\n",
        "        image.save(filename)\n",
        "\n",
        "        generated_images.append({\n",
        "            'page': page_info['page'],\n",
        "            'image': image,\n",
        "            'text': page_info['text'],\n",
        "            'filename': filename\n",
        "        })\n",
        "\n",
        "        print(f\"저장됨: {filename}\\n\")\n",
        "\n",
        "    return generated_images"
      ],
      "metadata": {
        "id": "3NiXFjTYryHA"
      },
      "execution_count": null,
      "outputs": []
    },
    {
      "cell_type": "code",
      "source": [
        "# 이미지 생성 실행\n",
        "images = generate_storybook_images(story_pages)"
      ],
      "metadata": {
        "id": "qYhENKs3uYqo"
      },
      "execution_count": null,
      "outputs": []
    },
    {
      "cell_type": "code",
      "source": [
        "# 생성된 이미지들을 한 번에 보기\n",
        "def display_storybook(images):\n",
        "    \"\"\"생성된 동화책 이미지들을 예쁘게 출력\"\"\"\n",
        "    fig, axes = plt.subplots(2, 3, figsize=(18, 12))\n",
        "    fig.suptitle(story_title, fontsize=20, fontweight='bold')\n",
        "\n",
        "    # 2x3 그리드로 배치 (5개 이미지 + 1개 빈 공간)\n",
        "    positions = [(0,0), (0,1), (0,2), (1,0), (1,1)]\n",
        "\n",
        "    for i, img_info in enumerate(images):\n",
        "        if i < len(positions):\n",
        "            row, col = positions[i]\n",
        "            axes[row, col].imshow(img_info['image'])\n",
        "            axes[row, col].set_title(f\"페이지 {img_info['page']}\", fontsize=14, fontweight='bold')\n",
        "            axes[row, col].axis('off')\n",
        "\n",
        "            # 텍스트를 이미지 아래에 추가\n",
        "            axes[row, col].text(0.5, -0.15, img_info['text'],\n",
        "                              transform=axes[row, col].transAxes,\n",
        "                              ha='center', va='top', fontsize=10,\n",
        "                              wrap=True, bbox=dict(boxstyle=\"round,pad=0.3\",\n",
        "                              facecolor=\"lightblue\", alpha=0.7))\n",
        "\n",
        "    # 마지막 빈 공간 숨기기\n",
        "    axes[1, 2].axis('off')\n",
        "\n",
        "    plt.tight_layout()\n",
        "    plt.show()"
      ],
      "metadata": {
        "id": "i0TdqMUIu0xe"
      },
      "execution_count": null,
      "outputs": []
    },
    {
      "cell_type": "code",
      "source": [
        "# 동화책 이미지들 출력\n",
        "display_storybook(images)"
      ],
      "metadata": {
        "id": "2qbK12BSu3aw"
      },
      "execution_count": null,
      "outputs": []
    },
    {
      "cell_type": "code",
      "source": [
        "# 개별 이미지도 크게 볼 수 있게\n",
        "print(\"개별 페이지별 상세 보기:\")\n",
        "for img_info in images:\n",
        "    plt.figure(figsize=(10, 8))\n",
        "    plt.imshow(img_info['image'])\n",
        "    plt.title(f\"페이지 {img_info['page']}: {img_info['text']}\",\n",
        "              fontsize=14, fontweight='bold', pad=20)\n",
        "    plt.axis('off')\n",
        "    plt.tight_layout()\n",
        "    plt.show()"
      ],
      "metadata": {
        "id": "2FHm0CZ8u6qH"
      },
      "execution_count": null,
      "outputs": []
    },
    {
      "cell_type": "code",
      "source": [
        "# print(f\"\\n✅ 동화책 '{story_title}' 완성!\")\n",
        "# print(\"모든 이미지가 'storybook_images' 폴더에 저장되었습니다.\")"
      ],
      "metadata": {
        "id": "CGuqGDHVu__9"
      },
      "execution_count": null,
      "outputs": []
    }
  ]
}